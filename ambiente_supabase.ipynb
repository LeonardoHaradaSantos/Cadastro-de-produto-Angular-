{
  "nbformat": 4,
  "nbformat_minor": 0,
  "metadata": {
    "colab": {
      "provenance": [],
      "authorship_tag": "ABX9TyO0mjHBJWd6jK45v2yWfowS",
      "include_colab_link": true
    },
    "kernelspec": {
      "name": "python3",
      "display_name": "Python 3"
    },
    "language_info": {
      "name": "python"
    }
  },
  "cells": [
    {
      "cell_type": "markdown",
      "metadata": {
        "id": "view-in-github",
        "colab_type": "text"
      },
      "source": [
        "<a href=\"https://colab.research.google.com/github/LeonardoHaradaSantos/Cadastro-de-produto-Angular-/blob/main/ambiente_supabase.ipynb\" target=\"_parent\"><img src=\"https://colab.research.google.com/assets/colab-badge.svg\" alt=\"Open In Colab\"/></a>"
      ]
    },
    {
      "cell_type": "code",
      "source": [
        "res = supabase.auth.sign_in_with_password({\n",
        "\"email\": \"leo0.harada@hotmail.com\",\n",
        "\"password\": \"senha_segura123\"\n",
        "})\n",
        "print(res)"
      ],
      "metadata": {
        "colab": {
          "base_uri": "https://localhost:8080/"
        },
        "id": "E3SEjN236_9r",
        "outputId": "69dcccea-81fa-43f0-b5a6-75f7a4ec5cfd"
      },
      "execution_count": null,
      "outputs": [
        {
          "output_type": "stream",
          "name": "stdout",
          "text": [
            "user=User(id='fd8eafd8-b29d-45c8-89af-7ec37c5d2bb6', app_metadata={'provider': 'email', 'providers': ['email']}, user_metadata={'email': 'leo0.harada@hotmail.com', 'email_verified': True, 'phone_verified': False, 'sub': 'fd8eafd8-b29d-45c8-89af-7ec37c5d2bb6'}, aud='authenticated', confirmation_sent_at=datetime.datetime(2025, 5, 2, 12, 35, 14, 52915, tzinfo=TzInfo(UTC)), recovery_sent_at=None, email_change_sent_at=None, new_email=None, new_phone=None, invited_at=None, action_link=None, email='leo0.harada@hotmail.com', phone='', created_at=datetime.datetime(2025, 5, 2, 12, 35, 14, 43585, tzinfo=TzInfo(UTC)), confirmed_at=datetime.datetime(2025, 5, 2, 12, 36, 9, 601006, tzinfo=TzInfo(UTC)), email_confirmed_at=datetime.datetime(2025, 5, 2, 12, 36, 9, 601006, tzinfo=TzInfo(UTC)), phone_confirmed_at=None, last_sign_in_at=datetime.datetime(2025, 5, 2, 12, 36, 24, 616607, tzinfo=TzInfo(UTC)), role='authenticated', updated_at=datetime.datetime(2025, 5, 2, 12, 36, 24, 618324, tzinfo=TzInfo(UTC)), identities=[UserIdentity(id='fd8eafd8-b29d-45c8-89af-7ec37c5d2bb6', identity_id='49badc26-d7ef-4de0-be01-1e60dc469b1e', user_id='fd8eafd8-b29d-45c8-89af-7ec37c5d2bb6', identity_data={'email': 'leo0.harada@hotmail.com', 'email_verified': True, 'phone_verified': False, 'sub': 'fd8eafd8-b29d-45c8-89af-7ec37c5d2bb6'}, provider='email', created_at=datetime.datetime(2025, 5, 2, 12, 35, 14, 48585, tzinfo=TzInfo(UTC)), last_sign_in_at=datetime.datetime(2025, 5, 2, 12, 35, 14, 48537, tzinfo=TzInfo(UTC)), updated_at=datetime.datetime(2025, 5, 2, 12, 35, 14, 48585, tzinfo=TzInfo(UTC)))], is_anonymous=False, factors=None) session=Session(provider_token=None, provider_refresh_token=None, access_token='eyJhbGciOiJIUzI1NiIsImtpZCI6IkRoSGJqbjQyNVhJcFRSZTkiLCJ0eXAiOiJKV1QifQ.eyJpc3MiOiJodHRwczovL3RnbWVoY3lqaWVleGZxcGxzamZtLnN1cGFiYXNlLmNvL2F1dGgvdjEiLCJzdWIiOiJmZDhlYWZkOC1iMjlkLTQ1YzgtODlhZi03ZWMzN2M1ZDJiYjYiLCJhdWQiOiJhdXRoZW50aWNhdGVkIiwiZXhwIjoxNzQ2MTkyOTg0LCJpYXQiOjE3NDYxODkzODQsImVtYWlsIjoibGVvMC5oYXJhZGFAaG90bWFpbC5jb20iLCJwaG9uZSI6IiIsImFwcF9tZXRhZGF0YSI6eyJwcm92aWRlciI6ImVtYWlsIiwicHJvdmlkZXJzIjpbImVtYWlsIl19LCJ1c2VyX21ldGFkYXRhIjp7ImVtYWlsIjoibGVvMC5oYXJhZGFAaG90bWFpbC5jb20iLCJlbWFpbF92ZXJpZmllZCI6dHJ1ZSwicGhvbmVfdmVyaWZpZWQiOmZhbHNlLCJzdWIiOiJmZDhlYWZkOC1iMjlkLTQ1YzgtODlhZi03ZWMzN2M1ZDJiYjYifSwicm9sZSI6ImF1dGhlbnRpY2F0ZWQiLCJhYWwiOiJhYWwxIiwiYW1yIjpbeyJtZXRob2QiOiJwYXNzd29yZCIsInRpbWVzdGFtcCI6MTc0NjE4OTM4NH1dLCJzZXNzaW9uX2lkIjoiNjcxOTVjNGUtZTM1ZC00MWI2LWFhOTMtYzUzMjM0MjQ5OTA2IiwiaXNfYW5vbnltb3VzIjpmYWxzZX0.OKN33zjSAKwZDwD0lk7uV4cvTxfjZ3dOYkpwzztgs4s', refresh_token='6isobtuclbbg', expires_in=3600, expires_at=1746192984, token_type='bearer', user=User(id='fd8eafd8-b29d-45c8-89af-7ec37c5d2bb6', app_metadata={'provider': 'email', 'providers': ['email']}, user_metadata={'email': 'leo0.harada@hotmail.com', 'email_verified': True, 'phone_verified': False, 'sub': 'fd8eafd8-b29d-45c8-89af-7ec37c5d2bb6'}, aud='authenticated', confirmation_sent_at=datetime.datetime(2025, 5, 2, 12, 35, 14, 52915, tzinfo=TzInfo(UTC)), recovery_sent_at=None, email_change_sent_at=None, new_email=None, new_phone=None, invited_at=None, action_link=None, email='leo0.harada@hotmail.com', phone='', created_at=datetime.datetime(2025, 5, 2, 12, 35, 14, 43585, tzinfo=TzInfo(UTC)), confirmed_at=datetime.datetime(2025, 5, 2, 12, 36, 9, 601006, tzinfo=TzInfo(UTC)), email_confirmed_at=datetime.datetime(2025, 5, 2, 12, 36, 9, 601006, tzinfo=TzInfo(UTC)), phone_confirmed_at=None, last_sign_in_at=datetime.datetime(2025, 5, 2, 12, 36, 24, 616607, tzinfo=TzInfo(UTC)), role='authenticated', updated_at=datetime.datetime(2025, 5, 2, 12, 36, 24, 618324, tzinfo=TzInfo(UTC)), identities=[UserIdentity(id='fd8eafd8-b29d-45c8-89af-7ec37c5d2bb6', identity_id='49badc26-d7ef-4de0-be01-1e60dc469b1e', user_id='fd8eafd8-b29d-45c8-89af-7ec37c5d2bb6', identity_data={'email': 'leo0.harada@hotmail.com', 'email_verified': True, 'phone_verified': False, 'sub': 'fd8eafd8-b29d-45c8-89af-7ec37c5d2bb6'}, provider='email', created_at=datetime.datetime(2025, 5, 2, 12, 35, 14, 48585, tzinfo=TzInfo(UTC)), last_sign_in_at=datetime.datetime(2025, 5, 2, 12, 35, 14, 48537, tzinfo=TzInfo(UTC)), updated_at=datetime.datetime(2025, 5, 2, 12, 35, 14, 48585, tzinfo=TzInfo(UTC)))], is_anonymous=False, factors=None))\n"
          ]
        }
      ]
    }
  ]
}